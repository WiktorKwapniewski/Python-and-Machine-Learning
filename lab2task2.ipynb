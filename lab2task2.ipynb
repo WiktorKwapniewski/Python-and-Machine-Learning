{
  "nbformat": 4,
  "nbformat_minor": 0,
  "metadata": {
    "colab": {
      "provenance": [],
      "authorship_tag": "ABX9TyPsLjpYbHv03qVzz9vvlu9P",
      "include_colab_link": true
    },
    "kernelspec": {
      "name": "python3",
      "display_name": "Python 3"
    },
    "language_info": {
      "name": "python"
    }
  },
  "cells": [
    {
      "cell_type": "markdown",
      "metadata": {
        "id": "view-in-github",
        "colab_type": "text"
      },
      "source": [
        "<a href=\"https://colab.research.google.com/github/WiktorKwapniewski/Python_for_Machine_Learning_and_Data_Science/blob/for_variant/lab2task2.ipynb\" target=\"_parent\"><img src=\"https://colab.research.google.com/assets/colab-badge.svg\" alt=\"Open In Colab\"/></a>"
      ]
    },
    {
      "cell_type": "code",
      "execution_count": 3,
      "metadata": {
        "id": "MeBUzAREHcyG"
      },
      "outputs": [],
      "source": [
        "lista = [\"Jabłko\",\"Ananas\",\"Banan\",\"Pomarańcza\",\"Mango\"]"
      ]
    },
    {
      "cell_type": "code",
      "source": [
        "for i in lista:\n",
        "  print(i)"
      ],
      "metadata": {
        "colab": {
          "base_uri": "https://localhost:8080/"
        },
        "id": "wt0gLIkVJ-L0",
        "outputId": "621f48bb-c1cb-4b2f-e5f3-8f4764a1ebed"
      },
      "execution_count": 4,
      "outputs": [
        {
          "output_type": "stream",
          "name": "stdout",
          "text": [
            "Jabłko\n",
            "Ananas\n",
            "Banan\n",
            "Pomarańcza\n",
            "Mango\n"
          ]
        }
      ]
    }
  ]
}